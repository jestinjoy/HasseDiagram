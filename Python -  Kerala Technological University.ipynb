{
 "cells": [
  {
   "cell_type": "markdown",
   "metadata": {},
   "source": [
    "# Python -  Based on Kerala Technological University"
   ]
  },
  {
   "cell_type": "markdown",
   "metadata": {},
   "source": [
    "** KTU - INTRODUCTION TO COMPUTING AND PROBLEM SOLVING **\n",
    "\n",
    "variables, expressions and statements, evaluation of expressions, precedence, string operations.\n",
    "Control statements, Boolean expressions and logical operators, conditional and alternative executions. \n",
    "Iteration - while statement and tables.\n",
    "\n",
    "Functions, calling functions, type conversion and coercion, composition of functions, mathematical functions, user-defined functions, parameters and arguments. \n",
    "\n",
    "Strings and lists – string traversal and comparison with examples. tuples and dictionaries – operations and examples\n",
    "\n",
    "Files and exceptions - text files, directories.\n",
    "Introduction to classes and objects - attributes, instances\n",
    "\n",
    "This notebook includes\n",
    "- Integers\n",
    "- Strings\n",
    "- Type Conversion and Coersion\n",
    "- Lists\n",
    "- Tuples\n",
    "- Dictionary \n",
    "- Function\n",
    "- Classes and Objects"
   ]
  },
  {
   "cell_type": "markdown",
   "metadata": {},
   "source": [
    "## Integers"
   ]
  },
  {
   "cell_type": "code",
   "execution_count": 1,
   "metadata": {
    "collapsed": false
   },
   "outputs": [],
   "source": [
    "a=1\n",
    "b=1.0"
   ]
  },
  {
   "cell_type": "code",
   "execution_count": 2,
   "metadata": {
    "collapsed": false
   },
   "outputs": [
    {
     "name": "stdout",
     "output_type": "stream",
     "text": [
      "2.0\n"
     ]
    }
   ],
   "source": [
    "#when an integer is added to a float, result is float\n",
    "c=a+b\n",
    "print c"
   ]
  },
  {
   "cell_type": "markdown",
   "metadata": {},
   "source": [
    "### Operations on integers"
   ]
  },
  {
   "cell_type": "code",
   "execution_count": 3,
   "metadata": {
    "collapsed": false
   },
   "outputs": [
    {
     "name": "stdout",
     "output_type": "stream",
     "text": [
      "2+3 is 5\n",
      "2-3 is -1\n",
      "2/3 is 0\n",
      "2*3 is 6\n",
      "2**3 is 8\n",
      "2%3 is 2\n",
      "2==3 False\n",
      "2.0==2 True\n"
     ]
    }
   ],
   "source": [
    "print \"2+3 is\", 2+3\n",
    "print \"2-3 is\", 2-3\n",
    "print \"2/3 is\", 2/3\n",
    "print \"2*3 is\", 2*3\n",
    "print \"2**3 is\", 2**3\n",
    "print \"2%3 is\",2%3\n",
    "print \"2==3\", 2==3\n",
    "print \"2.0==2\",2==2.0"
   ]
  },
  {
   "cell_type": "markdown",
   "metadata": {},
   "source": [
    "## Strings"
   ]
  },
  {
   "cell_type": "code",
   "execution_count": 4,
   "metadata": {
    "collapsed": false
   },
   "outputs": [
    {
     "name": "stdout",
     "output_type": "stream",
     "text": [
      "<type 'str'>\n",
      "5\n",
      "5\n"
     ]
    }
   ],
   "source": [
    "v1=\"hello\"\n",
    "v2=\"world\"\n",
    "print type(v1)\n",
    "#length can be found with len function\n",
    "print len(v1)\n",
    "print len(v2)"
   ]
  },
  {
   "cell_type": "markdown",
   "metadata": {},
   "source": [
    "### String Operations"
   ]
  },
  {
   "cell_type": "code",
   "execution_count": 5,
   "metadata": {
    "collapsed": false
   },
   "outputs": [
    {
     "name": "stdout",
     "output_type": "stream",
     "text": [
      "The string is helloworld\n",
      "hello\n",
      "o\n",
      "hellohellohello\n"
     ]
    }
   ],
   "source": [
    "#String concatenation can be done with + operator\n",
    "print \"The string is\",v1+v2\n",
    "print v1[0:len(v1)]\n",
    "#index of -1 means last element\n",
    "print v1[-1]\n",
    "print 3*v1"
   ]
  },
  {
   "cell_type": "markdown",
   "metadata": {},
   "source": [
    "## Type conversion and coersion"
   ]
  },
  {
   "cell_type": "markdown",
   "metadata": {},
   "source": [
    "When the arguments of a numeric operation are of different types, the interpreter tries to **coerce** the arguments into a common type.  The numeric operation is then performed using this common type. \n",
    "\n",
    "Type **conversion** is a mechanism which should be used explicitly."
   ]
  },
  {
   "cell_type": "code",
   "execution_count": 6,
   "metadata": {
    "collapsed": false
   },
   "outputs": [
    {
     "name": "stdout",
     "output_type": "stream",
     "text": [
      "<type 'int'>\n",
      "<type 'float'>\n",
      "2.0\n",
      "<type 'float'>\n"
     ]
    }
   ],
   "source": [
    "#coersion example\n",
    "a=1\n",
    "print type(a)\n",
    "b=1.0\n",
    "print type(b)\n",
    "c=a+b\n",
    "print c\n",
    "print type(c)"
   ]
  },
  {
   "cell_type": "code",
   "execution_count": 7,
   "metadata": {
    "collapsed": false
   },
   "outputs": [
    {
     "name": "stdout",
     "output_type": "stream",
     "text": [
      "3/2 is  1\n",
      "3/2.0 is  1.5\n",
      "3.0/2 is  1.5\n"
     ]
    }
   ],
   "source": [
    "#If anyone of the number is float, result is converted to float\n",
    "print \"3/2 is \",3/2\n",
    "print \"3/2.0 is \", 3.0/2.0\n",
    "print \"3.0/2 is \", 3.0/2.0"
   ]
  },
  {
   "cell_type": "code",
   "execution_count": 8,
   "metadata": {
    "collapsed": false
   },
   "outputs": [
    {
     "name": "stdout",
     "output_type": "stream",
     "text": [
      "1\n",
      "1.0\n",
      "<type 'float'>\n"
     ]
    }
   ],
   "source": [
    "#conversion example\n",
    "print a\n",
    "d=float(a)\n",
    "print d\n",
    "print type(d)"
   ]
  },
  {
   "cell_type": "markdown",
   "metadata": {},
   "source": [
    "## Lists"
   ]
  },
  {
   "cell_type": "markdown",
   "metadata": {},
   "source": [
    "A **list** is an ordered set of values. Each value is identified by an index."
   ]
  },
  {
   "cell_type": "code",
   "execution_count": 1,
   "metadata": {
    "collapsed": false
   },
   "outputs": [
    {
     "name": "stdout",
     "output_type": "stream",
     "text": [
      "[1, 2, 3, 4]\n",
      "['kerala', 'TN', 'Andhra']\n"
     ]
    }
   ],
   "source": [
    "nlist=[1,2,3,4]\n",
    "slist=[\"kerala\",\"TN\",\"Andhra\"]\n",
    "print nlist\n",
    "print slist"
   ]
  },
  {
   "cell_type": "markdown",
   "metadata": {},
   "source": [
    "*append* is used to add elements to the list"
   ]
  },
  {
   "cell_type": "code",
   "execution_count": 3,
   "metadata": {
    "collapsed": false
   },
   "outputs": [
    {
     "name": "stdout",
     "output_type": "stream",
     "text": [
      "[1, 2, 3, 4, 5, 5]\n",
      "['kerala', 'TN', 'Andhra', 5, 5]\n"
     ]
    }
   ],
   "source": [
    "nlist.append(5)\n",
    "slist.append(5)\n",
    "print nlist\n",
    "print slist"
   ]
  },
  {
   "cell_type": "markdown",
   "metadata": {},
   "source": [
    "list indexing is similar to that of string"
   ]
  },
  {
   "cell_type": "code",
   "execution_count": 5,
   "metadata": {
    "collapsed": false
   },
   "outputs": [
    {
     "name": "stdout",
     "output_type": "stream",
     "text": [
      "[1, 2, 3]\n",
      "[1, 2, 3, 4, 5]\n",
      "5\n",
      "[1, 2, 3, 4, 5]\n"
     ]
    }
   ],
   "source": [
    "print nlist[0:3]\n",
    "print nlist[0:5]\n",
    "print nlist[-1]\n",
    "print nlist[0:-1]"
   ]
  },
  {
   "cell_type": "code",
   "execution_count": 6,
   "metadata": {
    "collapsed": false
   },
   "outputs": [
    {
     "name": "stdout",
     "output_type": "stream",
     "text": [
      "[1, 2, 3, 4, 5, 5]\n",
      "1\n",
      "[1, 2, 3, 4, 5, 5, 2]\n",
      "1\n"
     ]
    }
   ],
   "source": [
    "print nlist\n",
    "print nlist.index(2)\n",
    "nlist.append(2)\n",
    "print nlist\n",
    "print nlist.index(2)"
   ]
  },
  {
   "cell_type": "markdown",
   "metadata": {},
   "source": [
    "*in* is a boolean operator that tests membership"
   ]
  },
  {
   "cell_type": "code",
   "execution_count": 7,
   "metadata": {
    "collapsed": false
   },
   "outputs": [
    {
     "name": "stdout",
     "output_type": "stream",
     "text": [
      "True\n"
     ]
    }
   ],
   "source": [
    "print 5 in nlist"
   ]
  },
  {
   "cell_type": "markdown",
   "metadata": {},
   "source": [
    "*split* function breaks a string into a list of words"
   ]
  },
  {
   "cell_type": "code",
   "execution_count": 8,
   "metadata": {
    "collapsed": false
   },
   "outputs": [
    {
     "name": "stdout",
     "output_type": "stream",
     "text": [
      "['This', 'is', 'a', 'line.']\n"
     ]
    }
   ],
   "source": [
    "sent=\"This is a line.\"\n",
    "lst=sent.split()\n",
    "print lst"
   ]
  },
  {
   "cell_type": "markdown",
   "metadata": {},
   "source": [
    "##Tuples"
   ]
  },
  {
   "cell_type": "markdown",
   "metadata": {},
   "source": [
    "Python **tuple** is an immutable data structure. Operations on tuples are the same as the operations on\n",
    "lists."
   ]
  },
  {
   "cell_type": "code",
   "execution_count": 13,
   "metadata": {
    "collapsed": false
   },
   "outputs": [
    {
     "name": "stdout",
     "output_type": "stream",
     "text": [
      "('a', 'b', 'c')\n",
      "('a',)\n",
      "a\n"
     ]
    }
   ],
   "source": [
    "tuple = ('a', 'b', 'c')\n",
    "print tuple\n",
    "#For creating a tuple with a single element\n",
    "tu=('a',)\n",
    "print tu\n",
    "tu=('a')\n",
    "print tu"
   ]
  },
  {
   "cell_type": "markdown",
   "metadata": {},
   "source": [
    "##Dictionary"
   ]
  },
  {
   "cell_type": "markdown",
   "metadata": {},
   "source": [
    "Unlike other data types, dictionaries can use data types other than integer (integer is also included) as index. Dictionaries are made up of **key-value** pairs."
   ]
  },
  {
   "cell_type": "code",
   "execution_count": 18,
   "metadata": {
    "collapsed": false
   },
   "outputs": [
    {
     "name": "stdout",
     "output_type": "stream",
     "text": [
      "CUSAT\n",
      "['univ1', 'univ3', 'univ2']\n",
      "['Kerala', 'CUSAT', 'Calicut']\n",
      "[('univ1', 'Kerala'), ('univ3', 'CUSAT'), ('univ2', 'Calicut')]\n"
     ]
    }
   ],
   "source": [
    "dict={\"univ1\":\"Kerala\",\"univ2\":\"Calicut\",\"univ3\":\"CUSAT\"}\n",
    "print dict[\"univ3\"]\n",
    "print dict.keys()\n",
    "print dict.values()\n",
    "print dict.items()"
   ]
  },
  {
   "cell_type": "code",
   "execution_count": 20,
   "metadata": {
    "collapsed": false
   },
   "outputs": [
    {
     "name": "stdout",
     "output_type": "stream",
     "text": [
      "False\n",
      "True\n"
     ]
    }
   ],
   "source": [
    "print dict.has_key(\"univ5\")\n",
    "print dict.has_key(\"univ2\")"
   ]
  },
  {
   "cell_type": "markdown",
   "metadata": {},
   "source": [
    "## Logical operators"
   ]
  },
  {
   "cell_type": "markdown",
   "metadata": {},
   "source": [
    "There are three logical operators:\n",
    "- And\n",
    "- Or\n",
    "- Not\n",
    "\n",
    "Operands of the logical operators should be boolean expressions. Any nonzero number is interpreted as True."
   ]
  },
  {
   "cell_type": "code",
   "execution_count": 23,
   "metadata": {
    "collapsed": false
   },
   "outputs": [
    {
     "data": {
      "text/plain": [
       "1"
      ]
     },
     "execution_count": 23,
     "metadata": {},
     "output_type": "execute_result"
    }
   ],
   "source": [
    "x = 5\n",
    "x and 1"
   ]
  },
  {
   "cell_type": "markdown",
   "metadata": {},
   "source": [
    "## Control Statements"
   ]
  },
  {
   "cell_type": "markdown",
   "metadata": {},
   "source": [
    "Program to sorted list as an when numbers are entered"
   ]
  },
  {
   "cell_type": "code",
   "execution_count": null,
   "metadata": {
    "collapsed": true
   },
   "outputs": [],
   "source": [
    "#use of while\n",
    "a=[]\n",
    "while True:\n",
    "        a.append(int(raw_input()))\n",
    "        a.sort()\n",
    "        print a"
   ]
  },
  {
   "cell_type": "code",
   "execution_count": 3,
   "metadata": {
    "collapsed": false
   },
   "outputs": [
    {
     "name": "stdout",
     "output_type": "stream",
     "text": [
      "Please enter an integer: 4\n",
      "positive\n"
     ]
    }
   ],
   "source": [
    "#use of if statment\n",
    "x = int(raw_input(\"Please enter an integer: \"))\n",
    "if x==0:\n",
    "    print \"x is zero\"\n",
    "elif x>0:\n",
    "    print \"positive\"\n",
    "else:\n",
    "    print \"negative\""
   ]
  },
  {
   "cell_type": "code",
   "execution_count": 2,
   "metadata": {
    "collapsed": false
   },
   "outputs": [
    {
     "name": "stdout",
     "output_type": "stream",
     "text": [
      "0\n",
      "1\n",
      "2\n",
      "3\n",
      "4\n",
      "5\n",
      "6\n",
      "7\n",
      "8\n",
      "one\n",
      "two\n",
      "three\n"
     ]
    }
   ],
   "source": [
    "#use of for statement\n",
    "for i in range(0,9):\n",
    "    print i\n",
    "a=[\"one\",\"two\",\"three\"]\n",
    "for i in a:\n",
    "    print i"
   ]
  },
  {
   "cell_type": "markdown",
   "metadata": {},
   "source": [
    "The **break** statement breaks out of the smallest enclosing for or while loop. The **continue** statement continues with the next iteration of the loop."
   ]
  },
  {
   "cell_type": "markdown",
   "metadata": {},
   "source": [
    "#### Program to find square of a number"
   ]
  },
  {
   "cell_type": "code",
   "execution_count": 1,
   "metadata": {
    "collapsed": false
   },
   "outputs": [
    {
     "name": "stdout",
     "output_type": "stream",
     "text": [
      "4\n",
      "16\n",
      "----------------\n",
      "16\n",
      "----------------\n",
      "16\n"
     ]
    }
   ],
   "source": [
    "inp=int(raw_input())\n",
    "#using incrementing while\n",
    "itr=0\n",
    "sqr=0\n",
    "while itr<inp:\n",
    "\tsqr=sqr+inp\n",
    "\titr+=1\n",
    "print sqr\n",
    "\n",
    "print \"----------------\"\n",
    "#using decrementing while loop\n",
    "itr=inp\n",
    "sqr=0\n",
    "while itr!=0:\n",
    "\tsqr=sqr+inp\n",
    "\titr-=1\n",
    "print sqr\n",
    "\n",
    "print \"----------------\"\n",
    "#using a for loop\n",
    "sqr=0\n",
    "for itr in range(0,inp):\n",
    "\tsqr=sqr+inp\n",
    "print sqr"
   ]
  },
  {
   "cell_type": "markdown",
   "metadata": {},
   "source": [
    "#### Selection sort example\n",
    "\n",
    "```\n",
    "for i = 1:n\n",
    "    k = i\n",
    "    for j = i+1:n \n",
    "        if a[j] < a[k]\n",
    "            k = j\n",
    "    swap a[i,k]\n",
    "end\n",
    "```"
   ]
  },
  {
   "cell_type": "code",
   "execution_count": 3,
   "metadata": {
    "collapsed": false
   },
   "outputs": [
    {
     "name": "stdout",
     "output_type": "stream",
     "text": [
      "[3, 4, 7, 21, 33]\n"
     ]
    }
   ],
   "source": [
    "# Selection sort example\n",
    "lst=[3,4,21,7,33]\n",
    "for i in range(0,len(lst)):\n",
    "    k=i\n",
    "    for j in range(i+1,len(lst)):\n",
    "        if lst[j] < lst[k]:\n",
    "            k=j\n",
    "    tmp=lst[i]\n",
    "    lst[i]=lst[k]\n",
    "    lst[k]=tmp\n",
    "print lst"
   ]
  },
  {
   "cell_type": "markdown",
   "metadata": {},
   "source": [
    "## Functions"
   ]
  },
  {
   "cell_type": "code",
   "execution_count": 20,
   "metadata": {
    "collapsed": false
   },
   "outputs": [
    {
     "data": {
      "text/plain": [
       "120"
      ]
     },
     "execution_count": 20,
     "metadata": {},
     "output_type": "execute_result"
    }
   ],
   "source": [
    "#Mathematical functions example\n",
    "import math\n",
    "math.factorial(5)"
   ]
  },
  {
   "cell_type": "code",
   "execution_count": 21,
   "metadata": {
    "collapsed": false
   },
   "outputs": [
    {
     "name": "stdout",
     "output_type": "stream",
     "text": [
      "3.14159265359\n"
     ]
    }
   ],
   "source": [
    "print math.pi"
   ]
  },
  {
   "cell_type": "code",
   "execution_count": null,
   "metadata": {
    "collapsed": false
   },
   "outputs": [],
   "source": [
    "# user-defined function example\n",
    "def fact(n):\n",
    "\tif n==0:\n",
    "\t\treturn 1\n",
    "\telse:\n",
    "\t\treturn n*fact(n-1)\n",
    "print fact(1)\n",
    "print fact(2)\n",
    "print fact(3)\n",
    "print fact(4)\n",
    "print fact(5)\n",
    "print fact(6)"
   ]
  },
  {
   "cell_type": "code",
   "execution_count": 9,
   "metadata": {
    "collapsed": false
   },
   "outputs": [
    {
     "name": "stdout",
     "output_type": "stream",
     "text": [
      "0\n",
      "1\n",
      "1\n",
      "2\n",
      "3\n",
      "5\n",
      "8\n"
     ]
    }
   ],
   "source": [
    "#Program to print fibonacci series upto n\n",
    "def fib(n):\n",
    "    a=0\n",
    "    b=1\n",
    "    while a<n:\n",
    "        print a\n",
    "        #  expressions to the right of the assignment operator are evaluated before any of the assignments are made.\n",
    "        a,b=b,a+b\n",
    "fib(10)"
   ]
  },
  {
   "cell_type": "markdown",
   "metadata": {},
   "source": [
    "##Classes and Objects"
   ]
  },
  {
   "cell_type": "markdown",
   "metadata": {},
   "source": [
    "class may define a special method named **\\_\\_init\\_\\_()**  to create objects with instances customized to a specific initial state."
   ]
  },
  {
   "cell_type": "code",
   "execution_count": 2,
   "metadata": {
    "collapsed": false
   },
   "outputs": [
    {
     "name": "stdout",
     "output_type": "stream",
     "text": [
      "a\n",
      "['play dead']\n",
      "b\n",
      "['roll over']\n"
     ]
    }
   ],
   "source": [
    "class Dog:\n",
    "    #tricks=[]\n",
    "    def __init__(self, name):\n",
    "        self.name = name\n",
    "        self.tricks = []\n",
    "    def add_trick(self, trick):\n",
    "        self.tricks.append(trick)\n",
    "        \n",
    "x=Dog(\"a\")\n",
    "x.add_trick(\"play dead\")\n",
    "print x.name\n",
    "print x.tricks\n",
    "\n",
    "y=Dog(\"b\")\n",
    "y.add_trick(\"roll over\")\n",
    "print y.name\n",
    "print y.tricks"
   ]
  },
  {
   "cell_type": "markdown",
   "metadata": {},
   "source": [
    "## Files and Exceptions"
   ]
  },
  {
   "cell_type": "markdown",
   "metadata": {},
   "source": [
    "Different file modes are\n",
    "\n",
    "- r for reading\n",
    "- w for writing\n",
    "- r+ opens for reading and writing (cannot truncate a file)\n",
    "- w+ for writing and reading (can truncate a file)"
   ]
  },
  {
   "cell_type": "code",
   "execution_count": 2,
   "metadata": {
    "collapsed": false
   },
   "outputs": [
    {
     "ename": "IOError",
     "evalue": "File not open for reading",
     "output_type": "error",
     "traceback": [
      "\u001b[1;31m---------------------------------------------------------------------------\u001b[0m",
      "\u001b[1;31mIOError\u001b[0m                                   Traceback (most recent call last)",
      "\u001b[1;32m<ipython-input-2-35b65cdcff10>\u001b[0m in \u001b[0;36m<module>\u001b[1;34m()\u001b[0m\n\u001b[0;32m      2\u001b[0m \u001b[0mf\u001b[0m\u001b[1;33m=\u001b[0m\u001b[0mopen\u001b[0m\u001b[1;33m(\u001b[0m\u001b[1;34m\"filename.txt\"\u001b[0m\u001b[1;33m,\u001b[0m\u001b[1;34m\"w\"\u001b[0m\u001b[1;33m)\u001b[0m\u001b[1;33m\u001b[0m\u001b[0m\n\u001b[0;32m      3\u001b[0m \u001b[1;31m#readline method reads all the characters up to and including the next newline character\u001b[0m\u001b[1;33m\u001b[0m\u001b[1;33m\u001b[0m\u001b[0m\n\u001b[1;32m----> 4\u001b[1;33m \u001b[1;32mprint\u001b[0m \u001b[0mf\u001b[0m\u001b[1;33m.\u001b[0m\u001b[0mreadline\u001b[0m\u001b[1;33m(\u001b[0m\u001b[1;33m)\u001b[0m\u001b[1;33m\u001b[0m\u001b[0m\n\u001b[0m\u001b[0;32m      5\u001b[0m \u001b[1;31m# write method is used to write data\u001b[0m\u001b[1;33m\u001b[0m\u001b[1;33m\u001b[0m\u001b[0m\n\u001b[0;32m      6\u001b[0m \u001b[0mf\u001b[0m\u001b[1;33m.\u001b[0m\u001b[0mwrite\u001b[0m\u001b[1;33m(\u001b[0m\u001b[1;34m\"line one\\nline two\\nline three\\n\"\u001b[0m\u001b[1;33m)\u001b[0m\u001b[1;33m\u001b[0m\u001b[0m\n",
      "\u001b[1;31mIOError\u001b[0m: File not open for reading"
     ]
    }
   ],
   "source": [
    "#Open a file\n",
    "f=open(\"filename.txt\",\"w\")\n",
    "#readline method reads all the characters up to and including the next newline character\n",
    "print f.readline()\n",
    "# write method is used to write data\n",
    "f.write(\"line one\\nline two\\nline three\\n\")\n",
    "# tell method is used to print the current position of file pointer\n",
    "print f.tell()\n",
    "# seek method is used to seek to a custom position in a file. seek(0) will move to first byte\n",
    "f.seek(0)\n",
    "#close method is used to close the file\n",
    "f.close()"
   ]
  },
  {
   "cell_type": "markdown",
   "metadata": {},
   "source": [
    "##Exceptions"
   ]
  },
  {
   "cell_type": "markdown",
   "metadata": {},
   "source": [
    "Exceptions can be handled using the **try** and **except** statements. If your program detects an error condition, you can make it **raise** an exception. More information about Python builtin exception can be found from [Python docs.](https://docs.python.org/2/library/exceptions.html)"
   ]
  },
  {
   "cell_type": "code",
   "execution_count": 18,
   "metadata": {
    "collapsed": false
   },
   "outputs": [
    {
     "name": "stdout",
     "output_type": "stream",
     "text": [
      "Enter a file name: test\n",
      "There is no file named test\n"
     ]
    }
   ],
   "source": [
    "filename = raw_input('Enter a file name: ')\n",
    "try:\n",
    "    f = open (filename, \"r\")\n",
    "except IOError:\n",
    "    print 'There is no file named', filename"
   ]
  },
  {
   "cell_type": "code",
   "execution_count": 16,
   "metadata": {
    "collapsed": false
   },
   "outputs": [
    {
     "name": "stdout",
     "output_type": "stream",
     "text": [
      "Pick a number: 17\n"
     ]
    },
    {
     "ename": "ValueError",
     "evalue": "17 is a bad number",
     "output_type": "error",
     "traceback": [
      "\u001b[1;31m---------------------------------------------------------------------------\u001b[0m",
      "\u001b[1;31mValueError\u001b[0m                                Traceback (most recent call last)",
      "\u001b[1;32m<ipython-input-16-54951093164d>\u001b[0m in \u001b[0;36m<module>\u001b[1;34m()\u001b[0m\n\u001b[0;32m      4\u001b[0m         \u001b[1;32mraise\u001b[0m \u001b[0mValueError\u001b[0m\u001b[1;33m,\u001b[0m \u001b[1;34m'17 is a bad number'\u001b[0m\u001b[1;33m\u001b[0m\u001b[0m\n\u001b[0;32m      5\u001b[0m     \u001b[1;32mreturn\u001b[0m \u001b[0mx\u001b[0m\u001b[1;33m\u001b[0m\u001b[0m\n\u001b[1;32m----> 6\u001b[1;33m \u001b[0minputNumber\u001b[0m\u001b[1;33m(\u001b[0m\u001b[1;33m)\u001b[0m\u001b[1;33m\u001b[0m\u001b[0m\n\u001b[0m",
      "\u001b[1;32m<ipython-input-16-54951093164d>\u001b[0m in \u001b[0;36minputNumber\u001b[1;34m()\u001b[0m\n\u001b[0;32m      2\u001b[0m     \u001b[0mx\u001b[0m \u001b[1;33m=\u001b[0m \u001b[0minput\u001b[0m\u001b[1;33m(\u001b[0m\u001b[1;34m'Pick a number: '\u001b[0m\u001b[1;33m)\u001b[0m\u001b[1;33m\u001b[0m\u001b[0m\n\u001b[0;32m      3\u001b[0m     \u001b[1;32mif\u001b[0m \u001b[0mx\u001b[0m \u001b[1;33m==\u001b[0m \u001b[1;36m17\u001b[0m \u001b[1;33m:\u001b[0m\u001b[1;33m\u001b[0m\u001b[0m\n\u001b[1;32m----> 4\u001b[1;33m         \u001b[1;32mraise\u001b[0m \u001b[0mValueError\u001b[0m\u001b[1;33m,\u001b[0m \u001b[1;34m'17 is a bad number'\u001b[0m\u001b[1;33m\u001b[0m\u001b[0m\n\u001b[0m\u001b[0;32m      5\u001b[0m     \u001b[1;32mreturn\u001b[0m \u001b[0mx\u001b[0m\u001b[1;33m\u001b[0m\u001b[0m\n\u001b[0;32m      6\u001b[0m \u001b[0minputNumber\u001b[0m\u001b[1;33m(\u001b[0m\u001b[1;33m)\u001b[0m\u001b[1;33m\u001b[0m\u001b[0m\n",
      "\u001b[1;31mValueError\u001b[0m: 17 is a bad number"
     ]
    }
   ],
   "source": [
    "def inputNumber () :\n",
    "    x = input('Pick a number: ')\n",
    "    if x == 17 :\n",
    "        raise ValueError, '17 is a bad number'\n",
    "    return x\n",
    "inputNumber()"
   ]
  }
 ],
 "metadata": {
  "kernelspec": {
   "display_name": "Python 2",
   "language": "python",
   "name": "python2"
  },
  "language_info": {
   "codemirror_mode": {
    "name": "ipython",
    "version": 2
   },
   "file_extension": ".py",
   "mimetype": "text/x-python",
   "name": "python",
   "nbconvert_exporter": "python",
   "pygments_lexer": "ipython2",
   "version": "2.7.9"
  }
 },
 "nbformat": 4,
 "nbformat_minor": 0
}
